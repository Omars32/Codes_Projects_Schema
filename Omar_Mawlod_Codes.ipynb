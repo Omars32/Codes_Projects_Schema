{
 "cells": [
  {
   "cell_type": "markdown",
   "metadata": {},
   "source": [
    " # Omar Almukhtar Mawlod Project's Notebooks"
   ]
  },
  {
   "cell_type": "markdown",
   "metadata": {},
   "source": [
    "## [Second Mountain](https://mybinder.org/v2/gh/Omars32/Codes_Projects_Schema/cca5d1dbaf0c722eb9e19fd69d947415c0752838?urlpath=lab%2Ftree%2FSecondMountain_Code_BetaVersion.ipynb)\n",
    "\n",
    "> HERE you will find: Second Mountain book source, Notebook (contain multi studies and datasets). "
   ]
  },
  {
   "cell_type": "markdown",
   "metadata": {},
   "source": [
    "## [Dates-fruit](https://mybinder.org/v2/gh/Omars32/Codes_Projects_Schema/cca5d1dbaf0c722eb9e19fd69d947415c0752838?urlpath=lab%2Ftree%2FProject11_Final.ipynb)\n",
    "\n",
    "\n",
    "> HERE you will find: Dates-fruit dataset, Notebook (EDA, ML), Paper research Source. "
   ]
  },
  {
   "cell_type": "markdown",
   "metadata": {},
   "source": [
    "## [Syarah](https://mybinder.org/v2/gh/Omars32/CapstoneProject/39574b7902f9c5b2a8f1aee8c9cecdedd6e2c980?urlpath=lab%2Ftree%2FCapstone%20v.5.8.ipynb)\n",
    "\n",
    "> here you find: Syarah Project notebook, Github repo, WebScraped dataset."
   ]
  }
 ],
 "metadata": {
  "kernelspec": {
   "display_name": "Python 3 (ipykernel)",
   "language": "python",
   "name": "python3"
  },
  "language_info": {
   "codemirror_mode": {
    "name": "ipython",
    "version": 3
   },
   "file_extension": ".py",
   "mimetype": "text/x-python",
   "name": "python",
   "nbconvert_exporter": "python",
   "pygments_lexer": "ipython3",
   "version": "3.9.12"
  }
 },
 "nbformat": 4,
 "nbformat_minor": 4
}
